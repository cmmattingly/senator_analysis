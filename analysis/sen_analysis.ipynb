{
 "cells": [
  {
   "cell_type": "code",
   "execution_count": 1,
   "id": "beb265c1",
   "metadata": {},
   "outputs": [],
   "source": [
    "import gensim.parsing.preprocessing as gsp\n",
    "from gensim import utils\n",
    "import json\n",
    "import requests\n",
    "from pprint import pprint\n",
    "import gensim.corpora as corpora\n",
    "from nltk.corpus import stopwords\n",
    "import gensim\n",
    "from gensim.utils import simple_preprocess\n",
    "import nltk\n",
    "from gensim.test.utils import common_corpus, common_dictionary\n",
    "from gensim.models.wrappers import LdaMallet\n",
    "import mysql.connector\n",
    "import datetime\n",
    "import time\n",
    "from nltk.collocations import *\n",
    "from nltk.tokenize import regexp\n",
    "import json\n",
    "from nltk import tokenize\n",
    "import numpy as np\n",
    "from tqdm import tqdm\n",
    "from gensim.models.coherencemodel import CoherenceModel\n",
    "import matplotlib.pyplot as plt"
   ]
  },
  {
   "cell_type": "markdown",
   "id": "a1780550",
   "metadata": {},
   "source": [
    "# data preprocessing"
   ]
  },
  {
   "cell_type": "code",
   "execution_count": 2,
   "id": "0f619f0e",
   "metadata": {},
   "outputs": [],
   "source": [
    "# nltk.download('stopwords')\n",
    "filters = [gsp.strip_tags, \n",
    "#            gsp.strip_punctuation, \n",
    "           gsp.strip_multiple_whitespaces,\n",
    "           gsp.strip_numeric, \n",
    "           gsp.remove_stopwords, \n",
    "           gsp.strip_short]\n",
    "\n",
    "def clean_text(s):\n",
    "    s = s.lower()\n",
    "    s = utils.to_unicode(s)\n",
    "    for f in filters:\n",
    "        s = f(s)\n",
    "    return s\n",
    "\n",
    "stop_words = ['sen', 'senator', 'senate', 'senators']\n",
    "\n",
    "url_docs = requests.get(\"http://das-lab.org:1701/docs\")\n",
    "text_docs = url_docs.text\n",
    "json_data_docs = json.loads(text_docs)\n",
    "\n",
    "unprocessed_data = [o['doc_text'] for o in json_data_docs]\n",
    "doc_ids = [o['doc_id'] for o in json_data_docs]\n",
    "data = [clean_text(text) for text in unprocessed_data]\n",
    "\n",
    "for i in range(len(data)):\n",
    "    text_tokens = tokenize.word_tokenize(data[i])\n",
    "    tokens = [word for word in text_tokens if not word in stop_words and len(word) > 1]\n",
    "    data[i] = \" \".join(tokens)\n",
    "\n",
    "# lda preprocessing\n",
    "tokenizer = regexp.RegexpTokenizer(r\"\\w+\")\n",
    "tokens = [tokenizer.tokenize(doc) for doc in data]\n",
    "\n",
    "tokens = [tuple(doc) for doc in tokens]\n",
    "id2word = corpora.Dictionary(tokens)\n",
    "texts = tokens\n",
    "corpus = [id2word.doc2bow(text) for text in texts]"
   ]
  },
  {
   "cell_type": "markdown",
   "id": "9df32956",
   "metadata": {},
   "source": [
    "# create lda mallet model"
   ]
  },
  {
   "cell_type": "code",
   "execution_count": 4,
   "id": "7a6ddf6f",
   "metadata": {},
   "outputs": [],
   "source": [
    "path_to_mallet_binary = \"/Users/chasemattingly/mallet-2.0.6/bin/mallet\"\n",
    "model = LdaMallet(path_to_mallet_binary, corpus=corpus,\n",
    "                  num_topics=25, id2word=id2word)"
   ]
  },
  {
   "cell_type": "markdown",
   "id": "fc0f7a32",
   "metadata": {},
   "source": [
    "# compute coherence values vs num topics"
   ]
  },
  {
   "cell_type": "code",
   "execution_count": 74,
   "id": "9fa90607",
   "metadata": {},
   "outputs": [],
   "source": [
    "def compute_coherence_values(dictionary, corpus, texts, limit, start=5, step=5):\n",
    "    coherence_values = []\n",
    "    model_list = []\n",
    "    for num_topics in tqdm(range(start, limit, step)):\n",
    "        model = LdaMallet(path_to_mallet_binary, corpus=corpus, num_topics=num_topics, id2word=id2word)\n",
    "        model_list.append(model)\n",
    "        coherencemodel = CoherenceModel(model=model, texts=texts, dictionary=dictionary, coherence='c_npmi')\n",
    "        coherence_values.append(coherencemodel.get_coherence())\n",
    "    return model_list, coherence_values"
   ]
  },
  {
   "cell_type": "code",
   "execution_count": 75,
   "id": "08905bfd",
   "metadata": {},
   "outputs": [
    {
     "name": "stderr",
     "output_type": "stream",
     "text": [
      "100%|██████████| 9/9 [09:41<00:00, 64.59s/it]\n"
     ]
    }
   ],
   "source": [
    "model_list, coherence_values = compute_coherence_values(dictionary=id2word, corpus=corpus, texts=texts, limit=50)"
   ]
  },
  {
   "cell_type": "code",
   "execution_count": 88,
   "id": "9c97ca7d",
   "metadata": {},
   "outputs": [],
   "source": [
    "model = model_list[4]"
   ]
  },
  {
   "cell_type": "code",
   "execution_count": 76,
   "id": "ffd417c8",
   "metadata": {},
   "outputs": [
    {
     "data": {
      "image/png": "[encoded data removed]",
      "text/plain": [
       "<Figure size 432x288 with 1 Axes>"
      ]
     },
     "metadata": {
      "needs_background": "light"
     },
     "output_type": "display_data"
    }
   ],
   "source": [
    "plt.plot(range(5,50, 5), coherence_values)\n",
    "plt.xlabel(\"Num Topics\")\n",
    "plt.ylabel(\"Coherence score\")\n",
    "plt.show()"
   ]
  },
  {
   "cell_type": "markdown",
   "id": "97ed8ec2",
   "metadata": {},
   "source": [
    "# post topics"
   ]
  },
  {
   "cell_type": "code",
   "execution_count": 33,
   "id": "575c22e9",
   "metadata": {},
   "outputs": [],
   "source": [
    "json_dict_topics = dict(model.print_topics(num_topics=25))\n",
    "json_dict_topics = {int(k):v for k,v in json_dict.items()}"
   ]
  },
  {
   "cell_type": "code",
   "execution_count": 35,
   "id": "c5c118c1",
   "metadata": {},
   "outputs": [],
   "source": [
    "req = requests.post(\"http://das-lab.org:1701/topics\", json=json_dict_topics)"
   ]
  },
  {
   "cell_type": "markdown",
   "id": "f2c7c79d",
   "metadata": {},
   "source": [
    "# get topic ids for doc_top_matrix"
   ]
  },
  {
   "cell_type": "code",
   "execution_count": 36,
   "id": "13803a6a",
   "metadata": {},
   "outputs": [],
   "source": [
    "url_topics = requests.get(\"http://das-lab.org:1701/topics\")\n",
    "text_topics = url_topics.text\n",
    "json_data_topics = json.loads(text_topics)"
   ]
  },
  {
   "cell_type": "code",
   "execution_count": 37,
   "id": "e3d7c766",
   "metadata": {},
   "outputs": [],
   "source": [
    "topic_ids = [o['topic_id'] for o in json_data_topics]"
   ]
  },
  {
   "cell_type": "markdown",
   "id": "5f568933",
   "metadata": {},
   "source": [
    "# compute doc_top_matrix"
   ]
  },
  {
   "cell_type": "code",
   "execution_count": 87,
   "id": "0abe8b8f",
   "metadata": {},
   "outputs": [],
   "source": [
    "doc_top_matrix = [*model.load_document_topics()]"
   ]
  },
  {
   "cell_type": "markdown",
   "id": "e77eed65",
   "metadata": {},
   "source": [
    "# add zero probability for topics not included"
   ]
  },
  {
   "cell_type": "code",
   "execution_count": 92,
   "id": "1f6ad63f",
   "metadata": {},
   "outputs": [],
   "source": [
    "expected_keys = list(range(25))\n",
    "new_doc_top_matrix = []\n",
    "for doc_top in doc_top_matrix:\n",
    "    _dict = dict(doc_top)\n",
    "    for key in expected_keys:\n",
    "        if key not in _dict:\n",
    "            _dict[key] = 0\n",
    "    new_doc_top_matrix.append(list(_dict.items()))\n",
    "        "
   ]
  },
  {
   "cell_type": "markdown",
   "id": "38685acd",
   "metadata": {},
   "source": [
    "# obtain excerpts"
   ]
  },
  {
   "cell_type": "code",
   "execution_count": 9,
   "id": "a2b51c85",
   "metadata": {},
   "outputs": [
    {
     "name": "stderr",
     "output_type": "stream",
     "text": [
      "100%|██████████| 2582/2582 [24:35<00:00,  1.75it/s]\n"
     ]
    }
   ],
   "source": [
    "excerpts = []\n",
    "for i in tqdm(range(len(unprocessed_data))):\n",
    "    excerpts_topic = [None] * 25\n",
    "    sents = tokenize.sent_tokenize(unprocessed_data[i])\n",
    "#     max_topic = max(doc_top_matrix[i], key=lambda x:x[1])[0]\n",
    "    for topic, prob in doc_top_matrix[i]:\n",
    "        words_prob = dict(model.show_topic(topic, topn=None)) #topn=None to obtain all word probabilities\n",
    "        sums = []\n",
    "        for sent in sents:\n",
    "            words = tokenize.word_tokenize(sent)\n",
    "            probs = [words_prob[word] if word in words_prob else 0 for word in words]\n",
    "            sums.append(sum(probs))\n",
    "        excerpts_topic[topic] = sents[np.argmax(sums)]\n",
    "    excerpts.append(excerpts_topic)"
   ]
  },
  {
   "cell_type": "markdown",
   "id": "7046a634",
   "metadata": {},
   "source": [
    "# create JSON payload"
   ]
  },
  {
   "cell_type": "code",
   "execution_count": 96,
   "id": "26d81783",
   "metadata": {},
   "outputs": [],
   "source": [
    "json_dict = {}"
   ]
  },
  {
   "cell_type": "code",
   "execution_count": 97,
   "id": "10b0e8e9",
   "metadata": {},
   "outputs": [],
   "source": [
    "it = 0\n",
    "for i in range(len(new_doc_top_matrix)):\n",
    "    doc_top = sorted(new_doc_top_matrix[i])\n",
    "    for j in range(len(new_doc_top_matrix[i])):\n",
    "        json_dict[it] = {\"doc_id\": doc_ids[i], \"topic_id\": topic_ids[doc_top[j][0]], \"probability\": round(doc_top[j][1], 4), \"excerpt\": excerpts[i][j]}\n",
    "        it += 1"
   ]
  },
  {
   "cell_type": "code",
   "execution_count": 9,
   "id": "88793969",
   "metadata": {},
   "outputs": [],
   "source": [
    "with open(\"doc_top.json\", \"w\") as outfile:\n",
    "    json.dump(json_dict, outfile)"
   ]
  },
  {
   "cell_type": "code",
   "execution_count": 98,
   "id": "3a82d282",
   "metadata": {},
   "outputs": [],
   "source": [
    "req = requests.post(\"http://das-lab.org:1701/doctopics\", json=json_dict)"
   ]
  },
  {
   "cell_type": "code",
   "execution_count": 99,
   "id": "f0cf59a7",
   "metadata": {},
   "outputs": [
    {
     "data": {
      "text/plain": [
       "<Response [200]>"
      ]
     },
     "execution_count": 99,
     "metadata": {},
     "output_type": "execute_result"
    }
   ],
   "source": [
    "req"
   ]
  }
 ],
 "metadata": {
  "kernelspec": {
   "display_name": "Python 3",
   "language": "python",
   "name": "python3"
  },
  "language_info": {
   "codemirror_mode": {
    "name": "ipython",
    "version": 3
   },
   "file_extension": ".py",
   "mimetype": "text/x-python",
   "name": "python",
   "nbconvert_exporter": "python",
   "pygments_lexer": "ipython3",
   "version": "3.9.7"
  }
 },
 "nbformat": 4,
 "nbformat_minor": 5
}
