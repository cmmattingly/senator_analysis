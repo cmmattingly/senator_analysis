{
 "cells": [
  {
   "cell_type": "code",
   "execution_count": 1,
   "id": "beb265c1",
   "metadata": {},
   "outputs": [],
   "source": [
    "import gensim.parsing.preprocessing as gsp\n",
    "from gensim import utils\n",
    "import json\n",
    "import requests\n",
    "from pprint import pprint\n",
    "import gensim.corpora as corpora\n",
    "from nltk.corpus import stopwords\n",
    "import gensim\n",
    "from gensim.utils import simple_preprocess\n",
    "import nltk\n",
    "from gensim.test.utils import common_corpus, common_dictionary\n",
    "from gensim.models.wrappers import LdaMallet\n",
    "import mysql.connector\n",
    "import datetime\n",
    "import time\n",
    "from nltk.collocations import *\n",
    "from nltk.tokenize import regexp\n",
    "import json\n",
    "from nltk import tokenize\n",
    "import numpy as np\n",
    "from tqdm import tqdm\n",
    "from gensim.models.coherencemodel import CoherenceModel\n",
    "import matplotlib.pyplot as plt"
   ]
  },
  {
   "cell_type": "markdown",
   "id": "a1780550",
   "metadata": {},
   "source": [
    "# data preprocessing"
   ]
  },
  {
   "cell_type": "code",
   "execution_count": 69,
   "id": "0f619f0e",
   "metadata": {},
   "outputs": [],
   "source": [
    "# nltk.download('stopwords')\n",
    "filters = [gsp.strip_tags, \n",
    "#            gsp.strip_punctuation, \n",
    "           gsp.strip_multiple_whitespaces,\n",
    "           gsp.strip_numeric, \n",
    "           gsp.remove_stopwords, \n",
    "           gsp.strip_short]\n",
    "\n",
    "def clean_text(s):\n",
    "    s = s.lower()\n",
    "    s = utils.to_unicode(s)\n",
    "    for f in filters:\n",
    "        s = f(s)\n",
    "    return s\n",
    "\n",
    "stop_words = ['sen', 'senator', 'senate', 'senators']\n",
    "\n",
    "url_docs = requests.get(\"http://das-lab.org:1701/docs\")\n",
    "text_docs = url_docs.text\n",
    "json_data_docs = json.loads(text_docs)\n",
    "\n",
    "unprocessed_data = [o['doc_text'] for o in json_data_docs]\n",
    "doc_ids = [o['doc_id'] for o in json_data_docs]\n",
    "data = [clean_text(text) for text in unprocessed_data]\n",
    "\n",
    "for i in range(len(data)):\n",
    "    text_tokens = tokenize.word_tokenize(data[i])\n",
    "    tokens = [word for word in text_tokens if not word in stop_words and len(word) > 1]\n",
    "    data[i] = \" \".join(tokens)\n",
    "\n",
    "# lda preprocessing\n",
    "tokenizer = regexp.RegexpTokenizer(r\"\\w+\")\n",
    "tokens = [tokenizer.tokenize(doc) for doc in data]\n",
    "\n",
    "tokens = [tuple(doc) for doc in tokens]\n",
    "id2word = corpora.Dictionary(tokens)\n",
    "texts = tokens\n",
    "corpus = [id2word.doc2bow(text) for text in texts]"
   ]
  },
  {
   "cell_type": "markdown",
   "id": "9df32956",
   "metadata": {},
   "source": [
    "# create lda mallet model"
   ]
  },
  {
   "cell_type": "code",
   "execution_count": 73,
   "id": "7a6ddf6f",
   "metadata": {},
   "outputs": [],
   "source": [
    "path_to_mallet_binary = \"/Users/chasemattingly/mallet-2.0.6/bin/mallet\"\n",
    "# model = LdaMallet(path_to_mallet_binary, corpus=corpus,\n",
    "#                   num_topics=10, id2word=id2word)"
   ]
  },
  {
   "cell_type": "markdown",
   "id": "fc0f7a32",
   "metadata": {},
   "source": [
    "# compute coherence values vs num topics"
   ]
  },
  {
   "cell_type": "code",
   "execution_count": 74,
   "id": "9fa90607",
   "metadata": {},
   "outputs": [],
   "source": [
    "def compute_coherence_values(dictionary, corpus, texts, limit, start=5, step=5):\n",
    "    coherence_values = []\n",
    "    model_list = []\n",
    "    for num_topics in tqdm(range(start, limit, step)):\n",
    "        model = LdaMallet(path_to_mallet_binary, corpus=corpus, num_topics=num_topics, id2word=id2word)\n",
    "        model_list.append(model)\n",
    "        coherencemodel = CoherenceModel(model=model, texts=texts, dictionary=dictionary, coherence='c_npmi')\n",
    "        coherence_values.append(coherencemodel.get_coherence())\n",
    "    return model_list, coherence_values"
   ]
  },
  {
   "cell_type": "code",
   "execution_count": 75,
   "id": "08905bfd",
   "metadata": {},
   "outputs": [
    {
     "name": "stderr",
     "output_type": "stream",
     "text": [
      "100%|██████████| 9/9 [09:41<00:00, 64.59s/it]\n"
     ]
    }
   ],
   "source": [
    "model_list, coherence_values = compute_coherence_values(dictionary=id2word, corpus=corpus, texts=texts, limit=50)"
   ]
  },
  {
   "cell_type": "code",
   "execution_count": 88,
   "id": "9c97ca7d",
   "metadata": {},
   "outputs": [],
   "source": [
    "model = model_list[4]"
   ]
  },
  {
   "cell_type": "code",
   "execution_count": 76,
   "id": "ffd417c8",
   "metadata": {},
   "outputs": [
    {
     "data": {
      "image/png": "[encoded data removed]",
      "text/plain": [
       "<Figure size 432x288 with 1 Axes>"
      ]
     },
     "metadata": {
      "needs_background": "light"
     },
     "output_type": "display_data"
    }
   ],
   "source": [
    "plt.plot(range(5,50, 5), coherence_values)\n",
    "plt.xlabel(\"Num Topics\")\n",
    "plt.ylabel(\"Coherence score\")\n",
    "plt.show()"
   ]
  },
  {
   "cell_type": "code",
   "execution_count": 89,
   "id": "a0a29819",
   "metadata": {},
   "outputs": [
    {
     "data": {
      "text/plain": [
       "[(24,\n",
       "  '0.019*\"senators\" + 0.009*\"tammy\" + 0.009*\"letter\" + 0.009*\"chris\" + 0.008*\"bennet\" + 0.008*\"calif\" + 0.007*\"mass\" + 0.007*\"kaine\" + 0.007*\"menendez\" + 0.007*\"md\"'),\n",
       " (16,\n",
       "  '0.019*\"biden\" + 0.016*\"rule\" + 0.016*\"vaccine\" + 0.015*\"daines\" + 0.013*\"marshall\" + 0.013*\"mandate\" + 0.013*\"administration\" + 0.012*\"irs\" + 0.009*\"braun\" + 0.008*\"human\"'),\n",
       " (23,\n",
       "  '0.024*\"united\" + 0.024*\"states\" + 0.022*\"china\" + 0.016*\"world\" + 0.016*\"global\" + 0.013*\"american\" + 0.013*\"foreign\" + 0.012*\"manufacturing\" + 0.012*\"international\" + 0.012*\"security\"'),\n",
       " (22,\n",
       "  '0.025*\"education\" + 0.022*\"students\" + 0.020*\"school\" + 0.019*\"support\" + 0.016*\"community\" + 0.016*\"families\" + 0.014*\"high\" + 0.014*\"maine\" + 0.014*\"workforce\" + 0.013*\"children\"'),\n",
       " (13,\n",
       "  '0.020*\"law\" + 0.014*\"violence\" + 0.013*\"children\" + 0.013*\"safety\" + 0.012*\"enforcement\" + 0.012*\"child\" + 0.011*\"sexual\" + 0.010*\"justice\" + 0.009*\"safe\" + 0.009*\"survivors\"'),\n",
       " (10,\n",
       "  '0.021*\"defense\" + 0.017*\"water\" + 0.015*\"funding\" + 0.014*\"oregon\" + 0.014*\"support\" + 0.013*\"national\" + 0.012*\"million\" + 0.011*\"project\" + 0.011*\"military\" + 0.010*\"merkley\"'),\n",
       " (15,\n",
       "  '0.021*\"agriculture\" + 0.018*\"farmers\" + 0.016*\"supply\" + 0.016*\"food\" + 0.013*\"climate\" + 0.012*\"producers\" + 0.012*\"industry\" + 0.010*\"usda\" + 0.010*\"solutions\" + 0.010*\"chain\"'),\n",
       " (21,\n",
       "  '0.045*\"infrastructure\" + 0.028*\"jobs\" + 0.026*\"investment\" + 0.026*\"bipartisan\" + 0.024*\"funding\" + 0.015*\"act\" + 0.014*\"state\" + 0.013*\"transportation\" + 0.012*\"million\" + 0.011*\"federal\"'),\n",
       " (3,\n",
       "  '0.040*\"letter\" + 0.021*\"senators\" + 0.019*\"department\" + 0.016*\"secretary\" + 0.015*\"states\" + 0.013*\"wrote\" + 0.013*\"administration\" + 0.011*\"process\" + 0.010*\"request\" + 0.009*\"urge\"'),\n",
       " (7,\n",
       "  '0.083*\"health\" + 0.056*\"care\" + 0.023*\"services\" + 0.021*\"access\" + 0.013*\"medical\" + 0.012*\"mental\" + 0.011*\"patients\" + 0.009*\"providers\" + 0.009*\"treatment\" + 0.009*\"public\"'),\n",
       " (12,\n",
       "  '0.022*\"federal\" + 0.021*\"committee\" + 0.018*\"security\" + 0.016*\"government\" + 0.014*\"report\" + 0.012*\"data\" + 0.012*\"hearing\" + 0.009*\"ensure\" + 0.009*\"information\" + 0.009*\"peters\"'),\n",
       " (4,\n",
       "  '0.033*\"john\" + 0.018*\"mike\" + 0.017*\"scott\" + 0.014*\"sen\" + 0.013*\"senators\" + 0.010*\"roger\" + 0.010*\"la\" + 0.009*\"hoeven\" + 0.009*\"james\" + 0.008*\"lankford\"'),\n",
       " (20,\n",
       "  '0.017*\"women\" + 0.012*\"service\" + 0.012*\"kansas\" + 0.011*\"nation\" + 0.008*\"state\" + 0.008*\"family\" + 0.008*\"work\" + 0.008*\"week\" + 0.008*\"home\" + 0.007*\"king\"'),\n",
       " (0,\n",
       "  '0.042*\"ukraine\" + 0.029*\"russia\" + 0.023*\"russian\" + 0.022*\"putin\" + 0.018*\"sanctions\" + 0.016*\"war\" + 0.015*\"president\" + 0.012*\"allies\" + 0.011*\"united\" + 0.010*\"ukrainian\"'),\n",
       " (6,\n",
       "  '0.041*\"biden\" + 0.038*\"president\" + 0.021*\"border\" + 0.016*\"inflation\" + 0.016*\"democrats\" + 0.016*\"administration\" + 0.015*\"year\" + 0.014*\"spending\" + 0.011*\"american\" + 0.009*\"budget\"'),\n",
       " (17,\n",
       "  '0.035*\"alaska\" + 0.021*\"communities\" + 0.017*\"national\" + 0.016*\"state\" + 0.014*\"native\" + 0.011*\"tribal\" + 0.011*\"federal\" + 0.011*\"indian\" + 0.010*\"local\" + 0.010*\"land\"'),\n",
       " (18,\n",
       "  '0.026*\"people\" + 0.017*\"vote\" + 0.012*\"states\" + 0.011*\"voting\" + 0.011*\"democracy\" + 0.011*\"election\" + 0.010*\"country\" + 0.010*\"time\" + 0.009*\"rights\" + 0.009*\"president\"'),\n",
       " (11,\n",
       "  '0.052*\"washington\" + 0.031*\"public\" + 0.028*\"senate\" + 0.026*\"https\" + 0.024*\"gov\" + 0.024*\"www\" + 0.022*\"murray\" + 0.021*\"state\" + 0.020*\"index\" + 0.019*\"cfm\"'),\n",
       " (2,\n",
       "  '0.039*\"court\" + 0.024*\"judge\" + 0.021*\"supreme\" + 0.016*\"law\" + 0.016*\"jackson\" + 0.015*\"justice\" + 0.010*\"federal\" + 0.009*\"abortion\" + 0.009*\"judicial\" + 0.008*\"nomination\"'),\n",
       " (19,\n",
       "  '0.051*\"veterans\" + 0.043*\"fax\" + 0.043*\"phone\" + 0.027*\"suite\" + 0.018*\"service\" + 0.018*\"tester\" + 0.017*\"montana\" + 0.012*\"building\" + 0.012*\"loan\" + 0.011*\"state\"')]"
      ]
     },
     "execution_count": 89,
     "metadata": {},
     "output_type": "execute_result"
    }
   ],
   "source": [
    "model.print_topics()"
   ]
  },
  {
   "cell_type": "markdown",
   "id": "97ed8ec2",
   "metadata": {},
   "source": [
    "# post topics"
   ]
  },
  {
   "cell_type": "code",
   "execution_count": 14,
   "id": "c5c118c1",
   "metadata": {},
   "outputs": [],
   "source": [
    "req = requests.post(\"http://das-lab.org:1701/topics\", json=dict(model.print_topics()))"
   ]
  },
  {
   "cell_type": "markdown",
   "id": "f2c7c79d",
   "metadata": {},
   "source": [
    "# get topic ids for doc_top_matrix"
   ]
  },
  {
   "cell_type": "code",
   "execution_count": 15,
   "id": "13803a6a",
   "metadata": {},
   "outputs": [],
   "source": [
    "url_topics = requests.get(\"http://das-lab.org:1701/topics\")\n",
    "text_topics = url_topics.text\n",
    "json_data_topics = json.loads(text_topics)"
   ]
  },
  {
   "cell_type": "code",
   "execution_count": 16,
   "id": "e3d7c766",
   "metadata": {},
   "outputs": [],
   "source": [
    "topic_ids = [o['topic_id'] for o in json_data_topics]"
   ]
  },
  {
   "cell_type": "markdown",
   "id": "5f568933",
   "metadata": {},
   "source": [
    "# compute doc_top_matrix"
   ]
  },
  {
   "cell_type": "code",
   "execution_count": 86,
   "id": "0abe8b8f",
   "metadata": {},
   "outputs": [],
   "source": [
    "doc_top_matrix = [*model.load_document_topics()]"
   ]
  },
  {
   "cell_type": "code",
   "execution_count": 87,
   "id": "59eb1d92",
   "metadata": {},
   "outputs": [
    {
     "data": {
      "text/plain": [
       "[(15, 0.44660192977600877),\n",
       " (29, 0.1553398081399862),\n",
       " (14, 0.0873786439413874),\n",
       " (11, 0.0873786439413874),\n",
       " (34, 0.029126214026247415),\n",
       " (28, 0.029126214026247415),\n",
       " (5, 0.029126214026247415),\n",
       " (31, 0.019417476017498277),\n",
       " (18, 0.019417476017498277),\n",
       " (32, 0.009708738008749138),\n",
       " (27, 0.009708738008749138),\n",
       " (25, 0.009708738008749138),\n",
       " (24, 0.009708738008749138),\n",
       " (22, 0.009708738008749138),\n",
       " (17, 0.009708738008749138),\n",
       " (13, 0.009708738008749138),\n",
       " (12, 0.009708738008749138),\n",
       " (9, 0.009708738008749138),\n",
       " (7, 0.009708738008749138)]"
      ]
     },
     "execution_count": 87,
     "metadata": {},
     "output_type": "execute_result"
    }
   ],
   "source": [
    "doc_top_matrix[0]"
   ]
  },
  {
   "cell_type": "markdown",
   "id": "38685acd",
   "metadata": {},
   "source": [
    "# obtain excerpts"
   ]
  },
  {
   "cell_type": "code",
   "execution_count": 45,
   "id": "a2b51c85",
   "metadata": {},
   "outputs": [
    {
     "name": "stderr",
     "output_type": "stream",
     "text": [
      "100%|██████████| 2582/2582 [12:44<00:00,  3.38it/s]\n"
     ]
    }
   ],
   "source": [
    "excerpts = []\n",
    "for i in tqdm(range(len(unprocessed_data))):\n",
    "    excerpts_topic = [None] * 10\n",
    "    sents = tokenize.sent_tokenize(unprocessed_data[i])\n",
    "#     max_topic = max(doc_top_matrix[i], key=lambda x:x[1])[0]\n",
    "    for topic, prob in doc_top_matrix[i]:\n",
    "        words_prob = dict(model.show_topic(topic, topn=None)) #topn=None to obtain all word probabilities\n",
    "        sums = []\n",
    "        for sent in sents:\n",
    "            words = tokenize.word_tokenize(sent)\n",
    "            probs = [words_prob[word] if word in words_prob else 0 for word in words]\n",
    "            sums.append(sum(probs))\n",
    "        excerpts_topic[topic] = sents[np.argmax(sums)]\n",
    "    excerpts.append(excerpts_topic)"
   ]
  },
  {
   "cell_type": "markdown",
   "id": "7046a634",
   "metadata": {},
   "source": [
    "# create JSON payload"
   ]
  },
  {
   "cell_type": "code",
   "execution_count": 18,
   "id": "26d81783",
   "metadata": {},
   "outputs": [],
   "source": [
    "json_dict = {}"
   ]
  },
  {
   "cell_type": "code",
   "execution_count": 19,
   "id": "10b0e8e9",
   "metadata": {},
   "outputs": [],
   "source": [
    "it = 0\n",
    "for i in range(len(doc_top_matrix)):\n",
    "    doc_top = sorted(doc_top_matrix[i])\n",
    "    for j in range(len(doc_top_matrix[i])):\n",
    "        json_dict[it] = {\"doc_id\": doc_ids[i], \"topic_id\": topic_ids[doc_top[j][0]], \"probability\": round(doc_top[j][1], 4), \"excerpt\": \"excerpts[i][j]\"}\n",
    "        it += 1"
   ]
  },
  {
   "cell_type": "code",
   "execution_count": 9,
   "id": "88793969",
   "metadata": {},
   "outputs": [],
   "source": [
    "with open(\"doc_top.json\", \"w\") as outfile:\n",
    "    json.dump(json_dict, outfile)"
   ]
  },
  {
   "cell_type": "code",
   "execution_count": 20,
   "id": "3a82d282",
   "metadata": {},
   "outputs": [],
   "source": [
    "req = requests.post(\"http://das-lab.org:1701/doctopics\", json=json_dict)"
   ]
  },
  {
   "cell_type": "code",
   "execution_count": 11,
   "id": "f0cf59a7",
   "metadata": {},
   "outputs": [
    {
     "data": {
      "text/plain": [
       "<Response [200]>"
      ]
     },
     "execution_count": 11,
     "metadata": {},
     "output_type": "execute_result"
    }
   ],
   "source": [
    "req"
   ]
  }
 ],
 "metadata": {
  "kernelspec": {
   "display_name": "Python 3",
   "language": "python",
   "name": "python3"
  },
  "language_info": {
   "codemirror_mode": {
    "name": "ipython",
    "version": 3
   },
   "file_extension": ".py",
   "mimetype": "text/x-python",
   "name": "python",
   "nbconvert_exporter": "python",
   "pygments_lexer": "ipython3",
   "version": "3.9.7"
  }
 },
 "nbformat": 4,
 "nbformat_minor": 5
}
